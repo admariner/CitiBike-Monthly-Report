{
  "nbformat": 4,
  "nbformat_minor": 0,
  "metadata": {
    "colab": {
      "name": "citiBike_dailyCount.ipynb",
      "provenance": [],
      "collapsed_sections": [],
      "authorship_tag": "ABX9TyMPhssXUGWzrFTyb3zjGpU4",
      "include_colab_link": true
    },
    "kernelspec": {
      "name": "python3",
      "display_name": "Python 3"
    }
  },
  "cells": [
    {
      "cell_type": "markdown",
      "metadata": {
        "id": "view-in-github",
        "colab_type": "text"
      },
      "source": [
        "<a href=\"https://colab.research.google.com/github/shi093/CitiBike-Monthly-Report/blob/master/citiBike_dailyCount.ipynb\" target=\"_parent\"><img src=\"https://colab.research.google.com/assets/colab-badge.svg\" alt=\"Open In Colab\"/></a>"
      ]
    },
    {
      "cell_type": "markdown",
      "metadata": {
        "id": "kRMFFxaW30Rc"
      },
      "source": [
        "This tool can be used to process CitiBike monthly data, and report the total number of CitiBike trips for each calendar day. \n",
        "\n",
        "First go to CitiBike Tripdata portal at https://s3.amazonaws.com/tripdata/index.html and copy the linkaddress of the file you would like to process. \n",
        "\n",
        "To run the code, click on the arrow at the top left corner, and paste the data file linkaddress in the input box, and hit \"enter\". Once the result is output to the console, you can download the result to your local computer by specifying the output file name."
      ]
    },
    {
      "cell_type": "code",
      "metadata": {
        "id": "OKaUe0tAn5jF",
        "colab": {
          "base_uri": "https://localhost:8080/",
          "height": 850
        },
        "outputId": "4d125066-3152-4fb9-c8b0-543df9ae47f7"
      },
      "source": [
        "from io import BytesIO\n",
        "from zipfile import ZipFile\n",
        "import pandas as pd\n",
        "import urllib.request\n",
        "import re\n",
        "from google.colab import files\n",
        "\n",
        "#url = urllib.request.urlopen(\"https://s3.amazonaws.com/tripdata/JC-202008-citibike-tripdata.csv.zip\")\n",
        "data_address = input('Data url: ')\n",
        "url = urllib.request.urlopen(data_address)\n",
        "data = []\n",
        "df = pd.DataFrame()\n",
        "with ZipFile(BytesIO(url.read())) as my_zip_file:\n",
        "    for contained_file in my_zip_file.namelist():\n",
        "        for line in my_zip_file.open(contained_file).readlines():\n",
        "            s = str(line,'unicode_escape')\n",
        "            s = re.sub(r\"\\n\", \"\", s)\n",
        "            s = re.sub(r\"\\\"\", \"\", s)\n",
        "            line_s = s.split(\",\")\n",
        "            data.append(line_s)\n",
        "                       \n",
        "df = pd.DataFrame(data)\n",
        "col_name = df.iloc[0].astype(str)\n",
        "# check column names as data format could change over time\n",
        "print(col_name)\n",
        "df.columns = col_name\n",
        "df = df.drop([0])\n",
        "# use the correct column name representing the trip start time\n",
        "#df['startdate']=df['starttime'].astype('datetime64[ns]').dt.date\n",
        "df['startdate']=df['started_at'].astype('datetime64[ns]').dt.date\n",
        "#date_count = df.groupby('startdate').count()[['bikeid']]\n",
        "date_count = df.groupby('startdate').count()[['ride_id']]\n",
        "date_count.columns = ['count']\n",
        "print(date_count)\n",
        "\n",
        "output_file_name = input('Output File Name: ')\n",
        "date_count.to_csv(output_file_name+'.csv') \n",
        "files.download(output_file_name+'.csv')"
      ],
      "execution_count": 11,
      "outputs": [
        {
          "output_type": "stream",
          "text": [
            "Data url: https://s3.amazonaws.com/tripdata/JC-202105-citibike-tripdata.csv.zip\n",
            "0                ride_id\n",
            "1          rideable_type\n",
            "2             started_at\n",
            "3               ended_at\n",
            "4     start_station_name\n",
            "5       start_station_id\n",
            "6       end_station_name\n",
            "7         end_station_id\n",
            "8              start_lat\n",
            "9              start_lng\n",
            "10               end_lat\n",
            "11               end_lng\n",
            "12       member_casual\\r\n",
            "Name: 0, dtype: object\n",
            "            count\n",
            "startdate        \n",
            "2021-05-01   1066\n",
            "2021-05-02   1364\n",
            "2021-05-03    668\n",
            "2021-05-04   1113\n",
            "2021-05-05    586\n",
            "2021-05-06   1323\n",
            "2021-05-07   1326\n",
            "2021-05-08    756\n",
            "2021-05-09    799\n",
            "2021-05-10    890\n",
            "2021-05-11   1196\n",
            "2021-05-12   1323\n",
            "2021-05-13   1478\n",
            "2021-05-14   1748\n",
            "2021-05-15   2191\n",
            "2021-05-16   2002\n",
            "2021-05-17   1531\n",
            "2021-05-18   1675\n",
            "2021-05-19   1835\n",
            "2021-05-20   1873\n",
            "2021-05-21   2053\n",
            "2021-05-22   2396\n",
            "2021-05-23   2103\n",
            "2021-05-24   1508\n",
            "2021-05-25   2030\n",
            "2021-05-26   1672\n",
            "2021-05-27   2275\n",
            "2021-05-28   1216\n",
            "2021-05-29    572\n",
            "2021-05-30    272\n",
            "2021-05-31   2203\n",
            "Output File Name: jc052021\n"
          ],
          "name": "stdout"
        },
        {
          "output_type": "display_data",
          "data": {
            "application/javascript": [
              "\n",
              "    async function download(id, filename, size) {\n",
              "      if (!google.colab.kernel.accessAllowed) {\n",
              "        return;\n",
              "      }\n",
              "      const div = document.createElement('div');\n",
              "      const label = document.createElement('label');\n",
              "      label.textContent = `Downloading \"${filename}\": `;\n",
              "      div.appendChild(label);\n",
              "      const progress = document.createElement('progress');\n",
              "      progress.max = size;\n",
              "      div.appendChild(progress);\n",
              "      document.body.appendChild(div);\n",
              "\n",
              "      const buffers = [];\n",
              "      let downloaded = 0;\n",
              "\n",
              "      const channel = await google.colab.kernel.comms.open(id);\n",
              "      // Send a message to notify the kernel that we're ready.\n",
              "      channel.send({})\n",
              "\n",
              "      for await (const message of channel.messages) {\n",
              "        // Send a message to notify the kernel that we're ready.\n",
              "        channel.send({})\n",
              "        if (message.buffers) {\n",
              "          for (const buffer of message.buffers) {\n",
              "            buffers.push(buffer);\n",
              "            downloaded += buffer.byteLength;\n",
              "            progress.value = downloaded;\n",
              "          }\n",
              "        }\n",
              "      }\n",
              "      const blob = new Blob(buffers, {type: 'application/binary'});\n",
              "      const a = document.createElement('a');\n",
              "      a.href = window.URL.createObjectURL(blob);\n",
              "      a.download = filename;\n",
              "      div.appendChild(a);\n",
              "      a.click();\n",
              "      div.remove();\n",
              "    }\n",
              "  "
            ],
            "text/plain": [
              "<IPython.core.display.Javascript object>"
            ]
          },
          "metadata": {
            "tags": []
          }
        },
        {
          "output_type": "display_data",
          "data": {
            "application/javascript": [
              "download(\"download_851f10db-7f7c-4d8f-bae1-05ae08566bb4\", \"jc052021.csv\", 505)"
            ],
            "text/plain": [
              "<IPython.core.display.Javascript object>"
            ]
          },
          "metadata": {
            "tags": []
          }
        }
      ]
    }
  ]
}