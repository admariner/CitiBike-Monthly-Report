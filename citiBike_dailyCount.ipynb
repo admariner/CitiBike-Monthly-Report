{
  "nbformat": 4,
  "nbformat_minor": 0,
  "metadata": {
    "colab": {
      "name": "citiBike_dailyCount.ipynb",
      "provenance": [],
      "collapsed_sections": [],
      "authorship_tag": "ABX9TyNwVLMKtYyuE+e+dhsHp5nq",
      "include_colab_link": true
    },
    "kernelspec": {
      "name": "python3",
      "display_name": "Python 3"
    }
  },
  "cells": [
    {
      "cell_type": "markdown",
      "metadata": {
        "id": "view-in-github",
        "colab_type": "text"
      },
      "source": [
        "<a href=\"https://colab.research.google.com/github/shi093/CitiBike-Monthly-Report/blob/master/citiBike_dailyCount.ipynb\" target=\"_parent\"><img src=\"https://colab.research.google.com/assets/colab-badge.svg\" alt=\"Open In Colab\"/></a>"
      ]
    },
    {
      "cell_type": "markdown",
      "metadata": {
        "id": "kRMFFxaW30Rc"
      },
      "source": [
        "This tool can be used to process CitiBike monthly data, and report the total number of CitiBike trips for each calendar day. \n",
        "\n",
        "First go to CitiBike Tripdata portal at https://s3.amazonaws.com/tripdata/index.html and copy the linkaddress of the file you would like to process. \n",
        "\n",
        "To run the code, click on the arrow at the top left corner, and paste the data file linkaddress in the input box, and hit \"enter\". Once the result is output to the console, you can download the result to your local computer by specifying the output file name."
      ]
    },
    {
      "cell_type": "code",
      "metadata": {
        "id": "OKaUe0tAn5jF",
        "colab": {
          "base_uri": "https://localhost:8080/",
          "height": 629
        },
        "outputId": "2ab9739a-522f-43a2-c79c-d45119d83862"
      },
      "source": [
        "from io import BytesIO\n",
        "from zipfile import ZipFile\n",
        "import pandas as pd\n",
        "import urllib.request\n",
        "import re\n",
        "from google.colab import files\n",
        "\n",
        "#url = urllib.request.urlopen(\"https://s3.amazonaws.com/tripdata/JC-202008-citibike-tripdata.csv.zip\")\n",
        "data_address = input('Data url: ')\n",
        "url = urllib.request.urlopen(data_address)\n",
        "data = []\n",
        "df = pd.DataFrame()\n",
        "with ZipFile(BytesIO(url.read())) as my_zip_file:\n",
        "    for contained_file in my_zip_file.namelist():\n",
        "        for line in my_zip_file.open(contained_file).readlines():\n",
        "            s = str(line,'unicode_escape')\n",
        "            s = re.sub(r\"\\n\", \"\", s)\n",
        "            s = re.sub(r\"\\\"\", \"\", s)\n",
        "            line_s = s.split(\",\")\n",
        "            data.append(line_s)\n",
        "                       \n",
        "df = pd.DataFrame(data)\n",
        "col_name = df.iloc[0].astype(str)\n",
        "df.columns = col_name\n",
        "df = df.drop([0])\n",
        "df['startdate']=df['starttime'].astype('datetime64[ns]').dt.date\n",
        "date_count = df.groupby('startdate').count()[['bikeid']]\n",
        "date_count.columns = ['count']\n",
        "print(date_count)\n",
        "\n",
        "output_file_name = input('Output File Name: ')\n",
        "date_count.to_csv(output_file_name+'.csv') \n",
        "files.download(output_file_name+'.csv')"
      ],
      "execution_count": 4,
      "outputs": [
        {
          "output_type": "stream",
          "text": [
            "Data url: https://s3.amazonaws.com/tripdata/202011-citibike-tripdata.csv.zip\n",
            "            count\n",
            "startdate        \n",
            "2020-11-01  32600\n",
            "2020-11-02  50610\n",
            "2020-11-03  62112\n",
            "2020-11-04  65204\n",
            "2020-11-05  74725\n",
            "2020-11-06  82142\n",
            "2020-11-07  98467\n",
            "2020-11-08  86147\n",
            "2020-11-09  75799\n",
            "2020-11-10  84365\n",
            "2020-11-11  46257\n",
            "2020-11-12  40704\n",
            "2020-11-13  48657\n",
            "2020-11-14  75263\n",
            "2020-11-15  51003\n",
            "2020-11-16  57607\n",
            "2020-11-17  54480\n",
            "2020-11-18  44054\n",
            "2020-11-19  51425\n",
            "2020-11-20  68483\n",
            "2020-11-21  75233\n",
            "2020-11-22  46012\n",
            "2020-11-23  42599\n",
            "2020-11-24  53102\n",
            "2020-11-25  56843\n",
            "2020-11-26  30687\n",
            "2020-11-27  53108\n",
            "2020-11-28  53202\n",
            "2020-11-29  52557\n",
            "2020-11-30  23257\n",
            "Output File Name: test\n"
          ],
          "name": "stdout"
        },
        {
          "output_type": "display_data",
          "data": {
            "application/javascript": [
              "\n",
              "    async function download(id, filename, size) {\n",
              "      if (!google.colab.kernel.accessAllowed) {\n",
              "        return;\n",
              "      }\n",
              "      const div = document.createElement('div');\n",
              "      const label = document.createElement('label');\n",
              "      label.textContent = `Downloading \"${filename}\": `;\n",
              "      div.appendChild(label);\n",
              "      const progress = document.createElement('progress');\n",
              "      progress.max = size;\n",
              "      div.appendChild(progress);\n",
              "      document.body.appendChild(div);\n",
              "\n",
              "      const buffers = [];\n",
              "      let downloaded = 0;\n",
              "\n",
              "      const channel = await google.colab.kernel.comms.open(id);\n",
              "      // Send a message to notify the kernel that we're ready.\n",
              "      channel.send({})\n",
              "\n",
              "      for await (const message of channel.messages) {\n",
              "        // Send a message to notify the kernel that we're ready.\n",
              "        channel.send({})\n",
              "        if (message.buffers) {\n",
              "          for (const buffer of message.buffers) {\n",
              "            buffers.push(buffer);\n",
              "            downloaded += buffer.byteLength;\n",
              "            progress.value = downloaded;\n",
              "          }\n",
              "        }\n",
              "      }\n",
              "      const blob = new Blob(buffers, {type: 'application/binary'});\n",
              "      const a = document.createElement('a');\n",
              "      a.href = window.URL.createObjectURL(blob);\n",
              "      a.download = filename;\n",
              "      div.appendChild(a);\n",
              "      a.click();\n",
              "      div.remove();\n",
              "    }\n",
              "  "
            ],
            "text/plain": [
              "<IPython.core.display.Javascript object>"
            ]
          },
          "metadata": {
            "tags": []
          }
        },
        {
          "output_type": "display_data",
          "data": {
            "application/javascript": [
              "download(\"download_9eea291c-7049-442f-b37b-1bf7b78ed50b\", \"test.csv\", 526)"
            ],
            "text/plain": [
              "<IPython.core.display.Javascript object>"
            ]
          },
          "metadata": {
            "tags": []
          }
        }
      ]
    }
  ]
}