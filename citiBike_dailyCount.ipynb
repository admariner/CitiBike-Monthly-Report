{
  "nbformat": 4,
  "nbformat_minor": 0,
  "metadata": {
    "colab": {
      "name": "citiBike_dailyCount.ipynb",
      "provenance": [],
      "collapsed_sections": [],
      "authorship_tag": "ABX9TyNSPzXDTrvQqzWo1hCFqTDC",
      "include_colab_link": true
    },
    "kernelspec": {
      "name": "python3",
      "display_name": "Python 3"
    }
  },
  "cells": [
    {
      "cell_type": "markdown",
      "metadata": {
        "id": "view-in-github",
        "colab_type": "text"
      },
      "source": [
        "<a href=\"https://colab.research.google.com/github/shi093/MEI_data/blob/master/citiBike_dailyCount.ipynb\" target=\"_parent\"><img src=\"https://colab.research.google.com/assets/colab-badge.svg\" alt=\"Open In Colab\"/></a>"
      ]
    },
    {
      "cell_type": "markdown",
      "metadata": {
        "id": "kRMFFxaW30Rc",
        "colab_type": "text"
      },
      "source": [
        "This tool can be used to process CitiBike monthly data, and report the total number of CitiBike trips for each calendar day. \n",
        "\n",
        "First go to CitiBike Tripdata portal at https://s3.amazonaws.com/tripdata/index.html and copy the linkaddress of the file you would like to process. \n",
        "\n",
        "To run the code, click on the arrow at the top left corner, and paste the data file linkaddress in the input box, and hit \"enter\"."
      ]
    },
    {
      "cell_type": "code",
      "metadata": {
        "id": "OKaUe0tAn5jF",
        "colab_type": "code",
        "colab": {
          "base_uri": "https://localhost:8080/",
          "height": 595
        },
        "outputId": "aab58e69-ca3b-4cb0-b46b-770dc7169f2a"
      },
      "source": [
        "from io import BytesIO\n",
        "from io import StringIO\n",
        "from zipfile import ZipFile\n",
        "import urllib.request\n",
        "import pandas as pd\n",
        "import string\n",
        "import re\n",
        "    \n",
        "#url = urllib.request.urlopen(\"https://s3.amazonaws.com/tripdata/JC-202008-citibike-tripdata.csv.zip\")\n",
        "data_address = input('Data file link: ')\n",
        "url = urllib.request.urlopen(data_address)\n",
        "data = []\n",
        "df = pd.DataFrame()\n",
        "with ZipFile(BytesIO(url.read())) as my_zip_file:\n",
        "    for contained_file in my_zip_file.namelist():\n",
        "        # with open((\"unzipped_and_read_\" + contained_file + \".file\"), \"wb\") as output:\n",
        "        for line in my_zip_file.open(contained_file).readlines():\n",
        "            s=str(line,'utf-8')\n",
        "            s = re.sub(r\"\\n\", \"\", s)\n",
        "            s = re.sub(r\"\\\"\", \"\", s)\n",
        "            line_s = s.split(\",\")\n",
        "            data.append(line_s)\n",
        "                       \n",
        "df = pd.DataFrame(data)\n",
        "col_name = df.iloc[0].astype(str)\n",
        "df.columns = col_name\n",
        "df = df.drop([0])\n",
        "df['startdate']=df['starttime'].astype('datetime64[ns]').dt.date\n",
        "date_count = df.groupby('startdate').count()[['bikeid']]\n",
        "date_count.columns = ['count']\n",
        "print(date_count)"
      ],
      "execution_count": 5,
      "outputs": [
        {
          "output_type": "stream",
          "text": [
            "Data file link: https://s3.amazonaws.com/tripdata/JC-202008-citibike-tripdata.csv.zip\n",
            "            count\n",
            "startdate        \n",
            "2020-08-01   1831\n",
            "2020-08-02   1532\n",
            "2020-08-03   1254\n",
            "2020-08-04    855\n",
            "2020-08-05   1455\n",
            "2020-08-06   1377\n",
            "2020-08-07    994\n",
            "2020-08-08   1783\n",
            "2020-08-09   1536\n",
            "2020-08-10   1297\n",
            "2020-08-11   1376\n",
            "2020-08-12   1375\n",
            "2020-08-13   1199\n",
            "2020-08-14   1621\n",
            "2020-08-15   2002\n",
            "2020-08-16    827\n",
            "2020-08-17   1268\n",
            "2020-08-18   1431\n",
            "2020-08-19   1270\n",
            "2020-08-20   1319\n",
            "2020-08-21   1529\n",
            "2020-08-22   1689\n",
            "2020-08-23   1571\n",
            "2020-08-24   1258\n",
            "2020-08-25   1205\n",
            "2020-08-26   1566\n",
            "2020-08-27   1115\n",
            "2020-08-28   1236\n",
            "2020-08-29   1544\n",
            "2020-08-30   1709\n",
            "2020-08-31   1243\n"
          ],
          "name": "stdout"
        }
      ]
    }
  ]
}