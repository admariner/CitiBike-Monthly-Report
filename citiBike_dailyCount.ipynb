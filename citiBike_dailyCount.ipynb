{
  "nbformat": 4,
  "nbformat_minor": 0,
  "metadata": {
    "colab": {
      "name": "citiBike_dailyCount.ipynb",
      "provenance": [],
      "collapsed_sections": [],
      "authorship_tag": "ABX9TyPWwjt33m7oC5mIsqF1Xduz",
      "include_colab_link": true
    },
    "kernelspec": {
      "name": "python3",
      "display_name": "Python 3"
    }
  },
  "cells": [
    {
      "cell_type": "markdown",
      "metadata": {
        "id": "view-in-github",
        "colab_type": "text"
      },
      "source": [
        "<a href=\"https://colab.research.google.com/github/shi093/CitiBike-Monthly-Report/blob/master/citiBike_dailyCount.ipynb\" target=\"_parent\"><img src=\"https://colab.research.google.com/assets/colab-badge.svg\" alt=\"Open In Colab\"/></a>"
      ]
    },
    {
      "cell_type": "markdown",
      "metadata": {
        "id": "kRMFFxaW30Rc",
        "colab_type": "text"
      },
      "source": [
        "This tool can be used to process CitiBike monthly data, and report the total number of CitiBike trips for each calendar day. \n",
        "\n",
        "First go to CitiBike Tripdata portal at https://s3.amazonaws.com/tripdata/index.html and copy the linkaddress of the file you would like to process. \n",
        "\n",
        "To run the code, click on the arrow at the top left corner, and paste the data file linkaddress in the input box, and hit \"enter\". Once the result is output to the console, you can download the result to your local computer by specifying the output file name."
      ]
    },
    {
      "cell_type": "code",
      "metadata": {
        "id": "OKaUe0tAn5jF",
        "colab_type": "code",
        "colab": {
          "base_uri": "https://localhost:8080/",
          "height": 624
        },
        "outputId": "47dd7267-ca73-4cab-d733-cf2bbc970ee6"
      },
      "source": [
        "from io import BytesIO\n",
        "from io import StringIO\n",
        "from zipfile import ZipFile\n",
        "import urllib.request\n",
        "import pandas as pd\n",
        "import string\n",
        "import re\n",
        "from google.colab import files\n",
        "\n",
        "    \n",
        "#url = urllib.request.urlopen(\"https://s3.amazonaws.com/tripdata/JC-202008-citibike-tripdata.csv.zip\")\n",
        "data_address = input('Data url: ')\n",
        "url = urllib.request.urlopen(data_address)\n",
        "data = []\n",
        "df = pd.DataFrame()\n",
        "with ZipFile(BytesIO(url.read())) as my_zip_file:\n",
        "    for contained_file in my_zip_file.namelist():\n",
        "        # with open((\"unzipped_and_read_\" + contained_file + \".file\"), \"wb\") as output:\n",
        "        for line in my_zip_file.open(contained_file).readlines():\n",
        "            s=str(line,'utf-8')\n",
        "            s = re.sub(r\"\\n\", \"\", s)\n",
        "            s = re.sub(r\"\\\"\", \"\", s)\n",
        "            line_s = s.split(\",\")\n",
        "            data.append(line_s)\n",
        "                       \n",
        "df = pd.DataFrame(data)\n",
        "col_name = df.iloc[0].astype(str)\n",
        "df.columns = col_name\n",
        "df = df.drop([0])\n",
        "df['startdate']=df['starttime'].astype('datetime64[ns]').dt.date\n",
        "date_count = df.groupby('startdate').count()[['bikeid']]\n",
        "date_count.columns = ['count']\n",
        "print(date_count)\n",
        "\n",
        "output_file_name = input('Output File Name: ')\n",
        "date_count.to_csv(output_file_name+'.csv') \n",
        "files.download(output_file_name+'.csv')"
      ],
      "execution_count": 2,
      "outputs": [
        {
          "output_type": "stream",
          "text": [
            "Data url: https://s3.amazonaws.com/tripdata/JC-202008-citibike-tripdata.csv.zip\n",
            "            count\n",
            "startdate        \n",
            "2020-08-01   1831\n",
            "2020-08-02   1532\n",
            "2020-08-03   1254\n",
            "2020-08-04    855\n",
            "2020-08-05   1455\n",
            "2020-08-06   1377\n",
            "2020-08-07    994\n",
            "2020-08-08   1783\n",
            "2020-08-09   1536\n",
            "2020-08-10   1297\n",
            "2020-08-11   1376\n",
            "2020-08-12   1375\n",
            "2020-08-13   1199\n",
            "2020-08-14   1621\n",
            "2020-08-15   2002\n",
            "2020-08-16    827\n",
            "2020-08-17   1268\n",
            "2020-08-18   1431\n",
            "2020-08-19   1270\n",
            "2020-08-20   1319\n",
            "2020-08-21   1529\n",
            "2020-08-22   1689\n",
            "2020-08-23   1571\n",
            "2020-08-24   1258\n",
            "2020-08-25   1205\n",
            "2020-08-26   1566\n",
            "2020-08-27   1115\n",
            "2020-08-28   1236\n",
            "2020-08-29   1544\n",
            "2020-08-30   1709\n",
            "2020-08-31   1243\n",
            "Output File Name: JC2020aug\n"
          ],
          "name": "stdout"
        },
        {
          "output_type": "display_data",
          "data": {
            "application/javascript": [
              "\n",
              "    async function download(id, filename, size) {\n",
              "      if (!google.colab.kernel.accessAllowed) {\n",
              "        return;\n",
              "      }\n",
              "      const div = document.createElement('div');\n",
              "      const label = document.createElement('label');\n",
              "      label.textContent = `Downloading \"${filename}\": `;\n",
              "      div.appendChild(label);\n",
              "      const progress = document.createElement('progress');\n",
              "      progress.max = size;\n",
              "      div.appendChild(progress);\n",
              "      document.body.appendChild(div);\n",
              "\n",
              "      const buffers = [];\n",
              "      let downloaded = 0;\n",
              "\n",
              "      const channel = await google.colab.kernel.comms.open(id);\n",
              "      // Send a message to notify the kernel that we're ready.\n",
              "      channel.send({})\n",
              "\n",
              "      for await (const message of channel.messages) {\n",
              "        // Send a message to notify the kernel that we're ready.\n",
              "        channel.send({})\n",
              "        if (message.buffers) {\n",
              "          for (const buffer of message.buffers) {\n",
              "            buffers.push(buffer);\n",
              "            downloaded += buffer.byteLength;\n",
              "            progress.value = downloaded;\n",
              "          }\n",
              "        }\n",
              "      }\n",
              "      const blob = new Blob(buffers, {type: 'application/binary'});\n",
              "      const a = document.createElement('a');\n",
              "      a.href = window.URL.createObjectURL(blob);\n",
              "      a.download = filename;\n",
              "      div.appendChild(a);\n",
              "      a.click();\n",
              "      div.remove();\n",
              "    }\n",
              "  "
            ],
            "text/plain": [
              "<IPython.core.display.Javascript object>"
            ]
          },
          "metadata": {
            "tags": []
          }
        },
        {
          "output_type": "display_data",
          "data": {
            "application/javascript": [
              "download(\"download_5c572948-0e8a-4080-975b-0e09803207d0\", \"JC2020aug.csv\", 509)"
            ],
            "text/plain": [
              "<IPython.core.display.Javascript object>"
            ]
          },
          "metadata": {
            "tags": []
          }
        }
      ]
    }
  ]
}